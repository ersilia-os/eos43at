{
 "cells": [
  {
   "cell_type": "code",
   "execution_count": 1,
   "id": "5cde89a6",
   "metadata": {},
   "outputs": [
    {
     "name": "stderr",
     "output_type": "stream",
     "text": [
      "RDKit WARNING: [07:33:15] Enabling RDKit 2019.09.3 jupyter extensions\n"
     ]
    }
   ],
   "source": [
    "import os\n",
    "os.chdir('../..')\n",
    "import numpy as np\n",
    "import torch\n",
    "import pickle\n",
    "from tqdm import tqdm\n",
    "from rdkit.Chem import MolFromInchi\n",
    "from rdkit.Chem.rdmolops import Kekulize"
   ]
  },
  {
   "cell_type": "code",
   "execution_count": 2,
   "id": "5306f3fe",
   "metadata": {},
   "outputs": [
    {
     "name": "stderr",
     "output_type": "stream",
     "text": [
      "Using backend: pytorch\n"
     ]
    }
   ],
   "source": [
    "from molgrad.net import MPNNPredictor"
   ]
  },
  {
   "cell_type": "code",
   "execution_count": 3,
   "id": "dbd9fce1",
   "metadata": {},
   "outputs": [],
   "source": [
    "from molgrad.train import DEVICE"
   ]
  },
  {
   "cell_type": "code",
   "execution_count": 4,
   "id": "90fecf83",
   "metadata": {},
   "outputs": [
    {
     "data": {
      "text/plain": [
       "<All keys matched successfully>"
      ]
     },
     "execution_count": 4,
     "metadata": {},
     "output_type": "execute_result"
    }
   ],
   "source": [
    "MODELS_PATH = \"models/\"\n",
    "\n",
    "model_pt = os.path.join(MODELS_PATH, 'caco2_noHs.pt')\n",
    "\n",
    "model = MPNNPredictor(node_in_feats=49,\n",
    "                      edge_in_feats=10,\n",
    "                      global_feats=4,\n",
    "                      n_tasks=1).to(DEVICE) \n",
    "model.load_state_dict(torch.load(model_pt,\n",
    "                                 map_location=DEVICE))"
   ]
  },
  {
   "cell_type": "code",
   "execution_count": 10,
   "id": "62eb2173",
   "metadata": {},
   "outputs": [],
   "source": [
    "from molgrad.prod import predict\n",
    "from rdkit import Chem"
   ]
  },
  {
   "cell_type": "code",
   "execution_count": 17,
   "id": "deb593d2",
   "metadata": {},
   "outputs": [
    {
     "name": "stderr",
     "output_type": "stream",
     "text": [
      "100%|██████████| 1/1 [00:00<00:00,  2.01it/s]\n"
     ]
    },
    {
     "data": {
      "text/plain": [
       "array([4.5073934, 4.5073934], dtype=float32)"
      ]
     },
     "execution_count": 17,
     "metadata": {},
     "output_type": "execute_result"
    }
   ],
   "source": [
    "mol = Chem.MolToInchi(Chem.MolFromSmiles(\"CCCCC\"))\n",
    "\n",
    "np.array(predict([mol, mol], w_path=model_pt)[:,0])"
   ]
  },
  {
   "cell_type": "code",
   "execution_count": 18,
   "id": "460ad364",
   "metadata": {},
   "outputs": [],
   "source": [
    "from molgrad.vis import molecule_importance"
   ]
  },
  {
   "cell_type": "code",
   "execution_count": 19,
   "id": "9ea09ccc",
   "metadata": {},
   "outputs": [],
   "source": [
    "svg, img, _, _, global_importance = molecule_importance(Chem.MolFromSmiles(\"CCC\"),\n",
    "                                                      model,\n",
    "                                                      task=0,\n",
    "                                                      version=2,\n",
    "                                                      vis_factor=1,\n",
    "                                                      eps=1e-3,\n",
    "                                                      img_height=275,\n",
    "                                                      img_width=550,\n",
    "                                                      addHs=False)"
   ]
  },
  {
   "cell_type": "code",
   "execution_count": 20,
   "id": "a9ef5b41",
   "metadata": {},
   "outputs": [
    {
     "data": {
      "text/plain": [
       "\"<?xml version='1.0' encoding='iso-8859-1'?>\\n<svg version='1.1' baseProfile='full'\\n              xmlns='http://www.w3.org/2000/svg'\\n                      xmlns:rdkit='http://www.rdkit.org/xml'\\n                      xmlns:xlink='http://www.w3.org/1999/xlink'\\n                  xml:space='preserve'\\nwidth='550px' height='275px' viewBox='0 0 550 275'>\\n<!-- END OF HEADER -->\\n<rect style='opacity:1.0;fill:#FFFFFF;stroke:none' width='550' height='275' x='0' y='0'> </rect>\\n<path d='M 25.7921,207.644 L 275.314,64.797' style='fill:none;fill-rule:evenodd;stroke:#FF0000;stroke-width:16px;stroke-linecap:butt;stroke-linejoin:miter;stroke-opacity:1' />\\n<ellipse cx='25.7921' cy='207.644' rx='0.792144' ry='0.792144' style='fill:#FF0000;fill-rule:evenodd;stroke:#FF0000;stroke-width:1px;stroke-linecap:butt;stroke-linejoin:miter;stroke-opacity:1' />\\n<ellipse cx='275.314' cy='64.797' rx='1.4802' ry='1.4802' style='fill:#FF0000;fill-rule:evenodd;stroke:#FF0000;stroke-width:1px;stroke-linecap:butt;stroke-linejoin:miter;stroke-opacity:1' />\\n<ellipse cx='523.801' cy='209.484' rx='1.19906' ry='1.19906' style='fill:#00FF00;fill-rule:evenodd;stroke:#00FF00;stroke-width:1px;stroke-linecap:butt;stroke-linejoin:miter;stroke-opacity:1' />\\n<path class='bond-0' d='M 25.7921,207.644 L 275.314,64.797' style='fill:none;fill-rule:evenodd;stroke:#000000;stroke-width:2px;stroke-linecap:butt;stroke-linejoin:miter;stroke-opacity:1' />\\n<path class='bond-1' d='M 275.314,64.797 L 523.801,209.484' style='fill:none;fill-rule:evenodd;stroke:#000000;stroke-width:2px;stroke-linecap:butt;stroke-linejoin:miter;stroke-opacity:1' />\\n</svg>\\n\""
      ]
     },
     "execution_count": 20,
     "metadata": {},
     "output_type": "execute_result"
    }
   ],
   "source": [
    "svg"
   ]
  },
  {
   "cell_type": "code",
   "execution_count": 22,
   "id": "ef1f41ab",
   "metadata": {},
   "outputs": [
    {
     "data": {
      "text/plain": [
       "array([ 0.5962544 ,  0.        , -0.00889703, -0.        ], dtype=float32)"
      ]
     },
     "execution_count": 22,
     "metadata": {},
     "output_type": "execute_result"
    }
   ],
   "source": [
    "global_importance"
   ]
  },
  {
   "cell_type": "code",
   "execution_count": null,
   "id": "08f4b243",
   "metadata": {},
   "outputs": [],
   "source": []
  }
 ],
 "metadata": {
  "kernelspec": {
   "display_name": "Python 3",
   "language": "python",
   "name": "python3"
  },
  "language_info": {
   "codemirror_mode": {
    "name": "ipython",
    "version": 3
   },
   "file_extension": ".py",
   "mimetype": "text/x-python",
   "name": "python",
   "nbconvert_exporter": "python",
   "pygments_lexer": "ipython3",
   "version": "3.7.6"
  }
 },
 "nbformat": 4,
 "nbformat_minor": 5
}
