{
 "cells": [
  {
   "cell_type": "code",
   "execution_count": null,
   "metadata": {},
   "outputs": [],
   "source": [
    "import os\n",
    "os.chdir('../..')\n",
    "import numpy as np\n",
    "from rdkit.Chem import MolFromSmarts\n",
    "\n",
    "PATTERN = MolFromSmarts(\"[#8]-[#6](=O)\"+\"~[#6]\" * 5 +\"(-[#8])=O\")\n",
    "\n",
    "\n",
    "def contains_pharm(mol):\n",
    "    if mol.HasSubstructMatch(PATTERN):\n",
    "        return True\n",
    "    return False"
   ]
  },
  {
   "cell_type": "code",
   "execution_count": null,
   "metadata": {},
   "outputs": [],
   "source": [
    "from rdkit.Chem import MolFromSmiles\n",
    "from rdkit.Chem.inchi import MolFromInchi\n",
    "from rdkit.Chem.rdmolops import Kekulize\n",
    "\n",
    "import pickle\n",
    "from molgrad.utils import DATA_PATH"
   ]
  },
  {
   "cell_type": "code",
   "execution_count": null,
   "metadata": {},
   "outputs": [],
   "source": [
    "with open(os.path.join(DATA_PATH, \"ppb\", \"data_ppb.pt\"), \"rb\") as handle:\n",
    "    inchis, values = pickle.load(handle)\n",
    "\n",
    "from tqdm import tqdm\n",
    "\n",
    "filtered = []\n",
    "idxs = []\n",
    "for idx, inchi in enumerate(tqdm(inchis)):\n",
    "    if contains_pharm(MolFromInchi(inchi)):\n",
    "        filtered.append(inchi)\n",
    "        idxs.append(idx)\n",
    "\n",
    "vals = [values[idx] for idx in idxs]"
   ]
  },
  {
   "cell_type": "code",
   "execution_count": null,
   "metadata": {},
   "outputs": [],
   "source": [
    "len(filtered)"
   ]
  },
  {
   "cell_type": "code",
   "execution_count": null,
   "metadata": {},
   "outputs": [],
   "source": [
    "from molgrad.vis import molecule_importance\n",
    "from molgrad.utils import MODELS_PATH\n",
    "from molgrad.train import DEVICE"
   ]
  },
  {
   "cell_type": "code",
   "execution_count": null,
   "metadata": {},
   "outputs": [],
   "source": [
    "import torch\n",
    "model_pt = os.path.join(MODELS_PATH, 'ppb_noHs.pt')\n",
    "\n",
    "from molgrad.net import MPNNPredictor\n",
    "\n",
    "model = MPNNPredictor(node_in_feats=49,\n",
    "                      edge_in_feats=10,\n",
    "                      global_feats=4,\n",
    "                      n_tasks=1).to(DEVICE) \n",
    "model.load_state_dict(torch.load(model_pt,\n",
    "                                 map_location=DEVICE))"
   ]
  },
  {
   "cell_type": "code",
   "execution_count": null,
   "metadata": {},
   "outputs": [],
   "source": [
    "mol = MolFromInchi(filtered[0])\n",
    "svg, img, _, _, global_importance = molecule_importance(mol,\n",
    "                                                      model,\n",
    "                                                      task=0,\n",
    "                                                      version=2,\n",
    "                                                      vis_factor=0.5,\n",
    "                                                      eps=1e-3,\n",
    "                                                      addHs=False,\n",
    "                                                      feature_scale=False)\n",
    "img"
   ]
  },
  {
   "cell_type": "code",
   "execution_count": null,
   "metadata": {},
   "outputs": [],
   "source": [
    "mol = MolFromInchi(filtered[1])\n",
    "svg, img, _, _, global_importance = molecule_importance(mol,\n",
    "                                                      model,\n",
    "                                                      task=0,\n",
    "                                                      version=2,\n",
    "                                                      vis_factor=0.5,\n",
    "                                                      eps=1e-4,\n",
    "                                                      addHs=False,\n",
    "                                                      feature_scale=False)\n",
    "img"
   ]
  },
  {
   "cell_type": "code",
   "execution_count": null,
   "metadata": {},
   "outputs": [],
   "source": [
    "mol = MolFromInchi(filtered[2])\n",
    "svg, img, _, _, global_importance = molecule_importance(mol,\n",
    "                                                      model,\n",
    "                                                      task=0,\n",
    "                                                      version=2,\n",
    "                                                      vis_factor=0.5,\n",
    "                                                      eps=1e-4,\n",
    "                                                      addHs=False,\n",
    "                                                      feature_scale=False)\n",
    "img"
   ]
  },
  {
   "cell_type": "code",
   "execution_count": null,
   "metadata": {},
   "outputs": [],
   "source": [
    "mol = MolFromInchi(filtered[3])\n",
    "svg, img, _, _, global_importance = molecule_importance(mol,\n",
    "                                                      model,\n",
    "                                                      task=0,\n",
    "                                                      version=2,\n",
    "                                                      vis_factor=0.5,\n",
    "                                                      eps=1e-4,\n",
    "                                                      addHs=False,\n",
    "                                                      feature_scale=False)\n",
    "img"
   ]
  },
  {
   "cell_type": "code",
   "execution_count": null,
   "metadata": {},
   "outputs": [],
   "source": [
    "# https://www.sciencedirect.com/science/article/pii/S0006295202010742?via%3Dihub\n",
    "\n",
    "from molgrad.clean_data import IUPAC_REST\n",
    "import requests"
   ]
  },
  {
   "cell_type": "code",
   "execution_count": null,
   "metadata": {},
   "outputs": [],
   "source": [
    "from rdkit.Chem import MolFromSmiles\n",
    "mol = MolFromSmiles(\"CCC(CC1=C(I)C(O)=C(I)C=C1I)C(O)=O\")\n",
    "svg_iophenoxate, img, _, _, global_importance = molecule_importance(mol,\n",
    "                                                      model,\n",
    "                                                      task=0,\n",
    "                                                      version=2,\n",
    "                                                      vis_factor=0.5,\n",
    "                                                      eps=4e-2,\n",
    "                                                      addHs=False,\n",
    "                                                      feature_scale=False)\n",
    "img"
   ]
  },
  {
   "cell_type": "code",
   "execution_count": null,
   "metadata": {},
   "outputs": [],
   "source": [
    "inchi = requests.get(IUPAC_REST.format(\"3-carboxy-4-methyl-5-propyl-2-furanpropionicacid\")).content.decode(\"utf8\")\n",
    "#inchi = \"InChI=1S/C12H16O5/c1-3-4-8-7(2)11(12(15)16)9(17-8)5-6-10(13)14/h3-6H2,1-2H3,(H,13,14)(H,15,16)\"\n",
    "mol = MolFromInchi(inchi)\n",
    "svg_cmpf, img, _, _, global_importance = molecule_importance(mol,\n",
    "                                                      model,\n",
    "                                                      task=0,\n",
    "                                                      version=1,\n",
    "                                                      vis_factor=1,\n",
    "                                                      eps=1e-3,\n",
    "                                                      addHs=False,\n",
    "                                                      img_height=275,\n",
    "                                                      img_width=550,\n",
    "                                                      feature_scale=True)\n",
    "img "
   ]
  },
  {
   "cell_type": "code",
   "execution_count": null,
   "metadata": {
    "scrolled": true
   },
   "outputs": [],
   "source": [
    "inchi = requests.get(IUPAC_REST.format(\"iodipamide\")).content.decode(\"utf8\")  # nope\n",
    "mol = MolFromInchi(inchi)\n",
    "svg_iodipamide, img, _, _, global_importance = molecule_importance(mol,\n",
    "                                                      model,\n",
    "                                                      task=0,\n",
    "                                                      version=2,\n",
    "                                                      vis_factor=1,\n",
    "                                                      eps=1e-2,\n",
    "                                                      addHs=False)\n",
    "img"
   ]
  },
  {
   "cell_type": "code",
   "execution_count": null,
   "metadata": {},
   "outputs": [],
   "source": [
    "inchi = requests.get(IUPAC_REST.format(\"carbenoxolone\")).content.decode(\"utf8\")  # nope\n",
    "mol = MolFromInchi(inchi)\n",
    "svg_carbenoxolone, img, _, _, global_importance = molecule_importance(mol,\n",
    "                                                      model,\n",
    "                                                      task=0,\n",
    "                                                      version=2,\n",
    "                                                      vis_factor=0.5,\n",
    "                                                      eps=1e-4,\n",
    "                                                      addHs=False)\n",
    "img"
   ]
  },
  {
   "cell_type": "code",
   "execution_count": null,
   "metadata": {},
   "outputs": [],
   "source": [
    "# save iophenoxate & cmpf\n",
    "from molgrad.utils import DATA_PATH\n",
    "EXAMPLES_PATH = os.path.join(DATA_PATH, \"examples\")\n",
    "\n",
    "os.makedirs(EXAMPLES_PATH, exist_ok=True)\n",
    "\n",
    "with open(os.path.join(EXAMPLES_PATH, \"ppb_motif_iophoxonate.svg\"), \"w+\") as handle:\n",
    "    handle.write(svg_iophenoxate)\n",
    "\n",
    "with open(os.path.join(EXAMPLES_PATH, \"ppb_motif_cmpf.svg\"), \"w+\") as handle:\n",
    "    handle.write(svg_cmpf)  "
   ]
  },
  {
   "cell_type": "code",
   "execution_count": null,
   "metadata": {},
   "outputs": [],
   "source": [
    "filtered[0]"
   ]
  },
  {
   "cell_type": "code",
   "execution_count": null,
   "metadata": {},
   "outputs": [],
   "source": []
  },
  {
   "cell_type": "code",
   "execution_count": null,
   "metadata": {},
   "outputs": [],
   "source": []
  }
 ],
 "metadata": {
  "kernelspec": {
   "display_name": "Python 3",
   "language": "python",
   "name": "python3"
  },
  "language_info": {
   "codemirror_mode": {
    "name": "ipython",
    "version": 3
   },
   "file_extension": ".py",
   "mimetype": "text/x-python",
   "name": "python",
   "nbconvert_exporter": "python",
   "pygments_lexer": "ipython3",
   "version": "3.7.6"
  }
 },
 "nbformat": 4,
 "nbformat_minor": 4
}
